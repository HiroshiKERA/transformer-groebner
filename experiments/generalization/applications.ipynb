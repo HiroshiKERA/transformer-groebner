{
 "cells": [
  {
   "cell_type": "code",
   "execution_count": 1,
   "metadata": {
    "vscode": {
     "languageId": "python"
    }
   },
   "outputs": [
    {
     "name": "stdout",
     "output_type": "stream",
     "text": [
      "/data/kera/workspace/Transformer-GB\n"
     ]
    }
   ],
   "source": [
    "%cd \"/home/kera/workspace/Transformer-GB\""
   ]
  },
  {
   "cell_type": "code",
   "execution_count": 2,
   "metadata": {
    "vscode": {
     "languageId": "python"
    }
   },
   "outputs": [],
   "source": [
    "%load_ext autoreload\n",
    "%autoreload 2"
   ]
  },
  {
   "cell_type": "code",
   "execution_count": 3,
   "metadata": {
    "vscode": {
     "languageId": "python"
    }
   },
   "outputs": [
    {
     "name": "stdout",
     "output_type": "stream",
     "text": [
      "-f\n"
     ]
    }
   ],
   "source": [
    "import torch\n",
    "import yaml \n",
    "import os \n",
    "os.environ[\"CUDA_VISIBLE_DEVICES\"] = '0'\n",
    "os.environ[\"TOKENIZERS_PARALLELISM\"] = \"false\"\n",
    "\n",
    "import argparse\n",
    "import re \n",
    "from transformers import AutoModelForSeq2SeqLM, AutoConfig\n",
    "\n",
    "from transformers import PreTrainedTokenizerFast\n",
    "from src.loader.data import load_data\n",
    "from src.loader.checkpoint import load_trained_bag\n",
    "from src.evalution.evaluators import eval_prediction\n",
    "\n",
    "load('src/data/symbolic_utils.sage')\n",
    "load('src/data/gbdataset.sage')"
   ]
  },
  {
   "cell_type": "markdown",
   "metadata": {},
   "source": [
    "# Nash \n",
    "参考[https://math.berkeley.edu/~bernd/cbms.pdf]"
   ]
  },
  {
   "cell_type": "code",
   "execution_count": 10,
   "metadata": {
    "vscode": {
     "languageId": "python"
    }
   },
   "outputs": [],
   "source": [
    "a, b, s, t = var('a b s t')\n",
    "\n",
    "A = matrix([[1, 2], [1, 1]])\n",
    "B = matrix([[1, 4], [0, 3]])"
   ]
  },
  {
   "cell_type": "code",
   "execution_count": 11,
   "metadata": {
    "vscode": {
     "languageId": "python"
    }
   },
   "outputs": [],
   "source": [
    "f1 = a * (s - A[0,0]*b - A[0,1]*(1-b))\n",
    "f2 = (1-a) * (s - A[1,0]*b - A[1,1]*(1-b))\n",
    "f3 = b * (t - B[0,0]*a - B[1,0]*(1-a))\n",
    "f4 = (1-b) * (t - B[0,1]*a - B[1,1]*(1-a))\n",
    "# f5 = a + b - 1\n",
    "F = [f1, f2, f3, f4]"
   ]
  },
  {
   "cell_type": "code",
   "execution_count": 12,
   "metadata": {
    "vscode": {
     "languageId": "python"
    }
   },
   "outputs": [
    {
     "data": {
      "text/plain": [
       "1"
      ]
     },
     "execution_count": 12,
     "metadata": {},
     "output_type": "execute_result"
    }
   ],
   "source": [
    "ring = PolynomialRing(QQ, [a, b, s, t])\n",
    "F = [ring(f) for f in F]\n",
    "\n",
    "ideal(F).dimension()"
   ]
  },
  {
   "cell_type": "code",
   "execution_count": 13,
   "metadata": {
    "vscode": {
     "languageId": "python"
    }
   },
   "outputs": [],
   "source": [
    "# ideal(F).variety()"
   ]
  },
  {
   "cell_type": "code",
   "execution_count": 14,
   "metadata": {
    "vscode": {
     "languageId": "python"
    }
   },
   "outputs": [
    {
     "data": {
      "text/plain": [
       "[b^2 - b, b*s - b, s^2 - 3*s + 2, b*t - 3*b + s - t + 2, s*t - 4*s - t + 4, a - 3*b - t + 3]"
      ]
     },
     "execution_count": 14,
     "metadata": {},
     "output_type": "execute_result"
    }
   ],
   "source": [
    "ideal(F).groebner_basis()"
   ]
  },
  {
   "cell_type": "code",
   "execution_count": null,
   "metadata": {
    "vscode": {
     "languageId": "python"
    }
   },
   "outputs": [],
   "source": []
  },
  {
   "cell_type": "code",
   "execution_count": null,
   "metadata": {
    "vscode": {
     "languageId": "python"
    }
   },
   "outputs": [],
   "source": []
  }
 ],
 "metadata": {
  "kernelspec": {
   "display_name": "SageMath 10.0",
   "language": "sage",
   "name": "sagemath"
  },
  "language_info": {
   "codemirror_mode": {
    "name": "ipython",
    "version": 3
   },
   "file_extension": ".py",
   "mimetype": "text/x-python",
   "name": "sage",
   "nbconvert_exporter": "python",
   "pygments_lexer": "ipython3",
   "version": "3.10.13"
  },
  "orig_nbformat": 4
 },
 "nbformat": 4,
 "nbformat_minor": 2
}
